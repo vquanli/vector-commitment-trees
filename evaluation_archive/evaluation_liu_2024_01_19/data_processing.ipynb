{
 "cells": [
  {
   "cell_type": "code",
   "execution_count": null,
   "metadata": {},
   "outputs": [],
   "source": [
    "import pandas as pd\n",
    "import seaborn as sns\n",
    "import matplotlib.pyplot as plt"
   ]
  },
  {
   "cell_type": "code",
   "execution_count": null,
   "metadata": {},
   "outputs": [],
   "source": [
    "df = pd.read_csv('stats_tree_construct_base.txt', sep='\\t')\n",
    "df = df[['TYPE', 'WIDTH', 'NUMBER_INITIAL_KEYS',\n",
    "       'time_to_insert', 'compute_root', 'NUMBER_ADDED_KEYS',\n",
    "       'time_to_add', 'check_valid_tree_after_add']]\n",
    "\n",
    "df.rename(columns={'TYPE': 'tree_type', 'WIDTH': 'width', 'NUMBER_INITIAL_KEYS': 'initial_keys', 'NUMBER_ADDED_KEYS': 'added_keys', 'time_to_insert': 'construction_time', 'compute_root': 'compute_root', 'time_to_add': 'insertion_time', 'check_valid_tree_after_add': 'compute_validation'}, inplace=True)\n",
    "df = df.round(decimals=2)\n",
    "df"
   ]
  },
  {
   "cell_type": "code",
   "execution_count": null,
   "metadata": {},
   "outputs": [],
   "source": [
    "df.to_latex('stats_tree_construct_base.tex', index=False, float_format=\"%.2f\")"
   ]
  },
  {
   "cell_type": "code",
   "execution_count": null,
   "metadata": {},
   "outputs": [],
   "source": [
    "\n",
    "# plot everything in one plot with subplots\n",
    "fig, axs = plt.subplots(ncols=2, nrows=2)\n",
    "# plot the line plot the construction time for the different tree_types as a function of initial_keys in the same plot\n",
    "sns.set_theme(style=\"darkgrid\")\n",
    "sns.lineplot(data=df, x=\"initial_keys\", y=\"construction_time\", hue=\"tree_type\", markers=True, marker='o', dashes=False, ax=axs[0, 0])\n",
    "sns.lineplot(data=df, x=\"initial_keys\", y=\"compute_root\", hue=\"tree_type\", markers=True, marker='o', dashes=False, ax=axs[0, 1])\n",
    "sns.lineplot(data=df, x=\"added_keys\", y=\"insertion_time\", hue=\"tree_type\", markers=True, marker='o', dashes=False, ax=axs[1, 0])\n",
    "sns.lineplot(data=df, x=\"added_keys\", y=\"compute_validation\", hue=\"tree_type\", markers=True, marker='o', dashes=False, ax=axs[1, 1])\n",
    "sns.set(rc={'figure.figsize':(11.7,8.27)})\n",
    "sns.set(font_scale=2)\n",
    "sns.set_style(\"whitegrid\")\n",
    "sns.set_style(\"ticks\")\n",
    "sns.set_context(\"paper\")\n",
    "axs[0, 0].set_xlabel('Number of initial keys')\n",
    "axs[0, 0].set_ylabel('Build time (s)')\n",
    "axs[0, 0].set_xscale('log', base=2)\n",
    "axs[0, 0].legend(title='Tree type', prop={'size': 10}, title_fontsize=10)\n",
    "axs[0, 1].set_xlabel('Number of initial keys')\n",
    "axs[0, 1].set_ylabel('Compute root (s)')\n",
    "axs[0, 1].set_xscale('log', base=2)\n",
    "axs[0, 1].legend(title='Tree type', prop={'size': 10}, title_fontsize=10)\n",
    "axs[1, 0].set_xlabel('Number of added keys')\n",
    "axs[1, 0].set_ylabel('Insertion time (s)')\n",
    "axs[1, 0].set_xscale('log', base=2)\n",
    "axs[1, 0].legend(title='Tree type', prop={'size': 10}, title_fontsize=10)\n",
    "axs[1, 1].set_xlabel('Number of added keys')\n",
    "axs[1, 1].set_ylabel('Compute validation (s)')\n",
    "axs[1, 1].set_xscale('log', base=2)\n",
    "axs[1, 1].legend(title='Tree type', prop={'size': 10}, title_fontsize=10)\n",
    "plt.tight_layout()\n",
    "plt.savefig('stats_tree_construct_base.png')\n",
    "\n"
   ]
  },
  {
   "cell_type": "code",
   "execution_count": null,
   "metadata": {},
   "outputs": [],
   "source": [
    "df = pd.read_csv('stats_tree_construct_width.txt', sep='\\t')\n",
    "df = df[['TYPE', 'WIDTH', 'NUMBER_INITIAL_KEYS',\n",
    "       'time_to_insert', 'compute_root', 'NUMBER_ADDED_KEYS',\n",
    "       'time_to_add', 'check_valid_tree_after_add']]\n",
    "\n",
    "df.rename(columns={'TYPE': 'tree_type', 'WIDTH': 'width', 'NUMBER_INITIAL_KEYS': 'initial_keys', 'NUMBER_ADDED_KEYS': 'added_keys', 'time_to_insert': 'construction_time', 'compute_root': 'compute_root', 'time_to_add': 'insertion_time', 'check_valid_tree_after_add': 'compute_validation'}, inplace=True)\n",
    "df = df.round(decimals=2)\n",
    "df"
   ]
  },
  {
   "cell_type": "code",
   "execution_count": null,
   "metadata": {},
   "outputs": [],
   "source": [
    "df.to_latex('stats_tree_construct_width.tex', index=False, float_format=\"%.2f\")"
   ]
  },
  {
   "cell_type": "code",
   "execution_count": null,
   "metadata": {},
   "outputs": [],
   "source": [
    "# plot everything in one plot with subplots\n",
    "fig, axs = plt.subplots(ncols=2, nrows=2)\n",
    "# plot the line plot the construction time for the different tree_types as a function of width in the same plot\n",
    "sns.set_theme(style=\"darkgrid\")\n",
    "sns.lineplot(data=df, x=\"width\", y=\"construction_time\", hue=\"tree_type\", markers=True, marker='o', dashes=False, ax=axs[0, 0])\n",
    "sns.lineplot(data=df, x=\"width\", y=\"compute_root\", hue=\"tree_type\", markers=True, marker='o', dashes=False, ax=axs[0, 1])\n",
    "sns.lineplot(data=df, x=\"width\", y=\"insertion_time\", hue=\"tree_type\", markers=True, marker='o', dashes=False, ax=axs[1, 0])\n",
    "sns.lineplot(data=df, x=\"width\", y=\"compute_validation\", hue=\"tree_type\", markers=True, marker='o', dashes=False, ax=axs[1, 1])\n",
    "sns.set(rc={'figure.figsize':(11.7,8.27)})\n",
    "sns.set(font_scale=2)\n",
    "sns.set_style(\"whitegrid\")\n",
    "sns.set_style(\"ticks\")\n",
    "sns.set_context(\"paper\")\n",
    "axs[0, 0].set_xlabel('Tree width')\n",
    "axs[0, 0].set_ylabel('Build time (s)')\n",
    "axs[0, 0].set_xscale('log', base=2)\n",
    "axs[0, 0].legend(title='Tree type', prop={'size': 10}, title_fontsize=10)\n",
    "axs[0, 1].set_xlabel('Tree width')\n",
    "axs[0, 1].set_ylabel('Compute root (s)')\n",
    "axs[0, 1].set_xscale('log', base=2)\n",
    "axs[0, 1].legend(title='Tree type', prop={'size': 10}, title_fontsize=10)\n",
    "axs[1, 0].set_xlabel('Tree width')\n",
    "axs[1, 0].set_ylabel('Insertion time (s)')\n",
    "axs[1, 0].set_xscale('log', base=2)\n",
    "axs[1, 0].legend(title='Tree type', prop={'size': 10}, title_fontsize=10)\n",
    "axs[1, 1].set_xlabel('Tree width')\n",
    "axs[1, 1].set_ylabel('Compute validation (s)')\n",
    "axs[1, 1].set_xscale('log', base=2)\n",
    "axs[1, 1].legend(title='Tree type', prop={'size': 10}, title_fontsize=10)\n",
    "plt.tight_layout()\n",
    "plt.savefig('stats_tree_construct_width.png')"
   ]
  },
  {
   "cell_type": "code",
   "execution_count": null,
   "metadata": {},
   "outputs": [],
   "source": [
    "df = pd.read_csv('stats_tree_construct_benchmark.txt', sep='\\t')\n",
    "df = df[['TYPE', 'WIDTH', 'NUMBER_INITIAL_KEYS',\n",
    "       'time_to_insert', 'compute_root', 'NUMBER_ADDED_KEYS',\n",
    "       'time_to_add', 'check_valid_tree_after_add']]\n",
    "\n",
    "df.rename(columns={'TYPE': 'tree_type', 'WIDTH': 'width', 'NUMBER_INITIAL_KEYS': 'initial_keys', 'NUMBER_ADDED_KEYS': 'added_keys', 'time_to_insert': 'construction_time', 'compute_root': 'compute_root', 'time_to_add': 'insertion_time', 'check_valid_tree_after_add': 'compute_validation'}, inplace=True)\n",
    "df = df.round(decimals=2)\n",
    "df"
   ]
  },
  {
   "cell_type": "code",
   "execution_count": null,
   "metadata": {},
   "outputs": [],
   "source": [
    "df.to_latex('stats_tree_construct_benchmark.tex', index=False, float_format=\"%.2f\")"
   ]
  },
  {
   "cell_type": "code",
   "execution_count": null,
   "metadata": {},
   "outputs": [],
   "source": [
    "# plot everything in one plot with subplots\n",
    "fig, axs = plt.subplots(ncols=2, nrows=2)\n",
    "# plot the line plot the construction time for the different tree_types as a function of width in the same plot\n",
    "sns.set_theme(style=\"darkgrid\")\n",
    "sns.lineplot(data=df, x=\"width\", y=\"construction_time\", hue=\"tree_type\", markers=True, marker='o', dashes=False, ax=axs[0, 0])\n",
    "sns.lineplot(data=df, x=\"width\", y=\"compute_root\", hue=\"tree_type\", markers=True, marker='o', dashes=False, ax=axs[0, 1])\n",
    "sns.lineplot(data=df, x=\"width\", y=\"insertion_time\", hue=\"tree_type\", markers=True, marker='o', dashes=False, ax=axs[1, 0])\n",
    "sns.lineplot(data=df, x=\"width\", y=\"compute_validation\", hue=\"tree_type\", markers=True, marker='o', dashes=False, ax=axs[1, 1])\n",
    "sns.set(rc={'figure.figsize':(11.7,8.27)})\n",
    "sns.set(font_scale=2)\n",
    "sns.set_style(\"whitegrid\")\n",
    "sns.set_style(\"ticks\")\n",
    "sns.set_context(\"paper\")\n",
    "axs[0, 0].set_xlabel('Tree width')\n",
    "axs[0, 0].set_ylabel('Build time (s)')\n",
    "axs[0, 0].set_xscale('log', base=2)\n",
    "axs[0, 0].legend(title='Tree type', prop={'size': 10}, title_fontsize=10)\n",
    "axs[0, 1].set_xlabel('Tree width')\n",
    "axs[0, 1].set_ylabel('Compute root (s)')\n",
    "axs[0, 1].set_xscale('log', base=2)\n",
    "axs[0, 1].legend(title='Tree type', prop={'size': 10}, title_fontsize=10)\n",
    "axs[1, 0].set_xlabel('Tree width')\n",
    "axs[1, 0].set_ylabel('Insertion time (s)')\n",
    "axs[1, 0].set_xscale('log', base=2)\n",
    "axs[1, 0].legend(title='Tree type', prop={'size': 10}, title_fontsize=10)\n",
    "axs[1, 1].set_xlabel('Tree width')\n",
    "axs[1, 1].set_ylabel('Compute validation (s)')\n",
    "axs[1, 1].set_xscale('log', base=2)\n",
    "axs[1, 1].legend(title='Tree type', prop={'size': 10}, title_fontsize=10)\n",
    "plt.tight_layout()\n",
    "plt.savefig('stats_tree_construct_benchmark.png')"
   ]
  },
  {
   "cell_type": "code",
   "execution_count": null,
   "metadata": {},
   "outputs": [],
   "source": [
    "df = pd.read_csv('stats_tree_construct_search.txt', sep='\\t')\n",
    "df = df[['TYPE', 'WIDTH', 'time_to_search']]\n",
    "df.rename(columns={'TYPE': 'tree_type', 'WIDTH': 'width', 'time_to_search': 'search_time' }, inplace=True)\n",
    "df = df.round(decimals=3)\n",
    "df = df.pivot(index='tree_type', columns='width', values='search_time')\n",
    "# place VBST first row\n",
    "df = df.reindex(['VBST', 'VBTree', 'VB+Tree', 'Verkle'])\n",
    "df"
   ]
  },
  {
   "cell_type": "code",
   "execution_count": null,
   "metadata": {},
   "outputs": [],
   "source": [
    "df.to_latex('stats_tree_construct_search.tex', index=True, float_format=\"%.3f\")"
   ]
  }
 ],
 "metadata": {
  "kernelspec": {
   "display_name": "base",
   "language": "python",
   "name": "python3"
  },
  "language_info": {
   "codemirror_mode": {
    "name": "ipython",
    "version": 3
   },
   "file_extension": ".py",
   "mimetype": "text/x-python",
   "name": "python",
   "nbconvert_exporter": "python",
   "pygments_lexer": "ipython3",
   "version": "3.9.5"
  }
 },
 "nbformat": 4,
 "nbformat_minor": 2
}
